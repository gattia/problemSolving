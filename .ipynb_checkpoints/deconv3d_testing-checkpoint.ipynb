{
 "cells": [
  {
   "cell_type": "code",
   "execution_count": 1,
   "metadata": {
    "collapsed": false
   },
   "outputs": [
    {
     "name": "stderr",
     "output_type": "stream",
     "text": [
      "Using TensorFlow backend.\n"
     ]
    }
   ],
   "source": [
    "from keras_contrib.layers import Deconvolution3D\n",
    "from keras.models import Sequential\n",
    "import numpy as np "
   ]
  },
  {
   "cell_type": "markdown",
   "metadata": {},
   "source": [
    "Below is the example right out of the convolution.py document. I am using TF ordering in this example as well as TF backend."
   ]
  },
  {
   "cell_type": "code",
   "execution_count": 2,
   "metadata": {
    "collapsed": false
   },
   "outputs": [
    {
     "name": "stdout",
     "output_type": "stream",
     "text": [
      "(32, 14, 14, 14, 3)\n"
     ]
    }
   ],
   "source": [
    "model = Sequential()\n",
    "model.add(Deconvolution3D(3, 3, 3, 3, output_shape=(None, 14, 14, 14, 3),\n",
    "                          border_mode='valid',\n",
    "                          input_shape=(12, 12, 12, 3)))\n",
    "# we can predict with the model and print the shape of the array.\n",
    "dummy_input = np.ones((32, 12, 12, 12, 3))\n",
    "preds = model.predict(dummy_input)\n",
    "print(preds.shape)  # (None, 14, 14, 14, 3)"
   ]
  },
  {
   "cell_type": "markdown",
   "metadata": {},
   "source": [
    "My assumption is that this deconvolution should work the same as a regular convolution. So the first four arguments for the function Deconvolution3D 3,3,3,3 are specifying the dimensions of the convolution kernel (3,3,3) as well as the number of output channels (3) in this case. \n",
    "\n",
    "So, we should be able to change all of these values. and get different shaped convolutions and a different number outputted convolutions. I'll start with just changing the number of channels. From the convolution.py the first input argument is the nb_filter, and then the next 3 are the dimensions of the kernel. Anways, I'll try to change the number of filters which should equate to the number of output channels. I've created a variable to make sure it is all the same"
   ]
  },
  {
   "cell_type": "code",
   "execution_count": 3,
   "metadata": {
    "collapsed": false
   },
   "outputs": [
    {
     "name": "stdout",
     "output_type": "stream",
     "text": [
      "(32, 14, 14, 14, 10)\n"
     ]
    }
   ],
   "source": [
    "outputChannels = 10\n",
    "model = Sequential()\n",
    "model.add(Deconvolution3D(outputChannels, 3, 3, 3, output_shape=(None, 14, 14, 14, outputChannels),\n",
    "                          border_mode='valid',\n",
    "                          input_shape=(12, 12, 12, 3)))\n",
    "# we can predict with the model and print the shape of the array.\n",
    "dummy_input = np.ones((32, 12, 12, 12, 3))\n",
    "preds = model.predict(dummy_input)\n",
    "print(preds.shape)  # (None, 14, 14, 14, 3)"
   ]
  },
  {
   "cell_type": "code",
   "execution_count": 4,
   "metadata": {
    "collapsed": false
   },
   "outputs": [
    {
     "name": "stdout",
     "output_type": "stream",
     "text": [
      "(32, 14, 14, 14, 6)\n"
     ]
    }
   ],
   "source": [
    "outputChannels = 6\n",
    "model = Sequential()\n",
    "model.add(Deconvolution3D(outputChannels, 3, 3, 3, output_shape=(None, 14, 14, 14, outputChannels),\n",
    "                          border_mode='valid',\n",
    "                          input_shape=(12, 12, 12, 3)))\n",
    "# we can predict with the model and print the shape of the array.\n",
    "dummy_input = np.ones((32, 12, 12, 12, 3))\n",
    "preds = model.predict(dummy_input)\n",
    "print(preds.shape)  # (None, 14, 14, 14, 3)"
   ]
  },
  {
   "cell_type": "code",
   "execution_count": 5,
   "metadata": {
    "collapsed": false
   },
   "outputs": [
    {
     "name": "stdout",
     "output_type": "stream",
     "text": [
      "(32, 14, 14, 14, 200)\n"
     ]
    }
   ],
   "source": [
    "outputChannels = 200\n",
    "model = Sequential()\n",
    "model.add(Deconvolution3D(outputChannels, 3, 3, 3, output_shape=(None, 14, 14, 14, outputChannels),\n",
    "                          border_mode='valid',\n",
    "                          input_shape=(12, 12, 12, 3)))\n",
    "# we can predict with the model and print the shape of the array.\n",
    "dummy_input = np.ones((32, 12, 12, 12, 3))\n",
    "preds = model.predict(dummy_input)\n",
    "print(preds.shape)  # (None, 14, 14, 14, 3)"
   ]
  },
  {
   "cell_type": "markdown",
   "metadata": {},
   "source": [
    "That worked. So, we can get ore, less or the same number of output channels based on the first input argument. \n",
    "\n",
    "Now, I want to change the shape of the convolution. To do so, I am going to up the size of the input image. From my understanding, we should only have to change those three kernel values and there should be nothing that we need to change on the actual input or output. "
   ]
  },
  {
   "cell_type": "code",
   "execution_count": 8,
   "metadata": {
    "collapsed": false
   },
   "outputs": [
    {
     "name": "stdout",
     "output_type": "stream",
     "text": [
      "(32, 24, 24, 24, 10)\n"
     ]
    }
   ],
   "source": [
    "outputChannels = 10\n",
    "kernel1 = 2\n",
    "kernel2 = 2\n",
    "kernel3 = 2\n",
    "model = Sequential()\n",
    "model.add(Deconvolution3D(outputChannels, kernel1, kernel2, kernel3, output_shape=(None, 24, 24, 24, outputChannels),\n",
    "                          border_mode='same', subsample=(2, 2,2),\n",
    "                          input_shape=(12, 12, 12, 3)))\n",
    "# we can predict with the model and print the shape of the array.\n",
    "dummy_input = np.ones((32, 12, 12, 12, 3))\n",
    "preds = model.predict(dummy_input)\n",
    "print(preds.shape)  # (None, 14, 14, 14, 3)"
   ]
  },
  {
   "cell_type": "markdown",
   "metadata": {},
   "source": [
    "## Using the updated code this example now works. I am have changed the values slightly to make sure the output dimesnons are correct. But this is great. "
   ]
  },
  {
   "cell_type": "markdown",
   "metadata": {},
   "source": [
    "We see that there is an error. It says that the input channels do not match the filter channels. In this case the input channels = 3 from the last number in input_shape=(12, 12, 12, 3). It seems to think that the filter channels are 2. But from the code in convolution.py and the order of those input arguements 2 is the 4th input which should be the third dimension of the kernel and not the number of filter channels. \n",
    "\n",
    "We can make that error go away by changing the number of channels on the input image to be the same as the third dimension of the kernel.... but that doesnt really make sense to do. And, when you do it, there is yet another error about the backpropagation. "
   ]
  },
  {
   "cell_type": "code",
   "execution_count": 25,
   "metadata": {
    "collapsed": false
   },
   "outputs": [
    {
     "ename": "InvalidArgumentError",
     "evalue": "Conv3DBackpropInput: Number of cols of out_backprop doesn't match computed: actual = 12, computed = 13\n\t [[Node: conv3d_transpose_23 = Conv3DBackpropInputV2[T=DT_FLOAT, padding=\"VALID\", strides=[1, 1, 1, 1, 1], _device=\"/job:localhost/replica:0/task:0/cpu:0\"](stack_23, transpose_23, _recv_deconvolution3d_input_24_0)]]\n\nCaused by op u'conv3d_transpose_23', defined at:\n  File \"/Users/gattia/anaconda2/envs/keras/lib/python2.7/runpy.py\", line 174, in _run_module_as_main\n    \"__main__\", fname, loader, pkg_name)\n  File \"/Users/gattia/anaconda2/envs/keras/lib/python2.7/runpy.py\", line 72, in _run_code\n    exec code in run_globals\n  File \"/Users/gattia/anaconda2/envs/keras/lib/python2.7/site-packages/ipykernel/__main__.py\", line 3, in <module>\n    app.launch_new_instance()\n  File \"/Users/gattia/anaconda2/envs/keras/lib/python2.7/site-packages/traitlets/config/application.py\", line 658, in launch_instance\n    app.start()\n  File \"/Users/gattia/anaconda2/envs/keras/lib/python2.7/site-packages/ipykernel/kernelapp.py\", line 474, in start\n    ioloop.IOLoop.instance().start()\n  File \"/Users/gattia/anaconda2/envs/keras/lib/python2.7/site-packages/zmq/eventloop/ioloop.py\", line 177, in start\n    super(ZMQIOLoop, self).start()\n  File \"/Users/gattia/anaconda2/envs/keras/lib/python2.7/site-packages/tornado/ioloop.py\", line 887, in start\n    handler_func(fd_obj, events)\n  File \"/Users/gattia/anaconda2/envs/keras/lib/python2.7/site-packages/tornado/stack_context.py\", line 275, in null_wrapper\n    return fn(*args, **kwargs)\n  File \"/Users/gattia/anaconda2/envs/keras/lib/python2.7/site-packages/zmq/eventloop/zmqstream.py\", line 440, in _handle_events\n    self._handle_recv()\n  File \"/Users/gattia/anaconda2/envs/keras/lib/python2.7/site-packages/zmq/eventloop/zmqstream.py\", line 472, in _handle_recv\n    self._run_callback(callback, msg)\n  File \"/Users/gattia/anaconda2/envs/keras/lib/python2.7/site-packages/zmq/eventloop/zmqstream.py\", line 414, in _run_callback\n    callback(*args, **kwargs)\n  File \"/Users/gattia/anaconda2/envs/keras/lib/python2.7/site-packages/tornado/stack_context.py\", line 275, in null_wrapper\n    return fn(*args, **kwargs)\n  File \"/Users/gattia/anaconda2/envs/keras/lib/python2.7/site-packages/ipykernel/kernelbase.py\", line 276, in dispatcher\n    return self.dispatch_shell(stream, msg)\n  File \"/Users/gattia/anaconda2/envs/keras/lib/python2.7/site-packages/ipykernel/kernelbase.py\", line 228, in dispatch_shell\n    handler(stream, idents, msg)\n  File \"/Users/gattia/anaconda2/envs/keras/lib/python2.7/site-packages/ipykernel/kernelbase.py\", line 390, in execute_request\n    user_expressions, allow_stdin)\n  File \"/Users/gattia/anaconda2/envs/keras/lib/python2.7/site-packages/ipykernel/ipkernel.py\", line 196, in do_execute\n    res = shell.run_cell(code, store_history=store_history, silent=silent)\n  File \"/Users/gattia/anaconda2/envs/keras/lib/python2.7/site-packages/ipykernel/zmqshell.py\", line 501, in run_cell\n    return super(ZMQInteractiveShell, self).run_cell(*args, **kwargs)\n  File \"/Users/gattia/anaconda2/envs/keras/lib/python2.7/site-packages/IPython/core/interactiveshell.py\", line 2717, in run_cell\n    interactivity=interactivity, compiler=compiler, result=result)\n  File \"/Users/gattia/anaconda2/envs/keras/lib/python2.7/site-packages/IPython/core/interactiveshell.py\", line 2821, in run_ast_nodes\n    if self.run_code(code, result):\n  File \"/Users/gattia/anaconda2/envs/keras/lib/python2.7/site-packages/IPython/core/interactiveshell.py\", line 2881, in run_code\n    exec(code_obj, self.user_global_ns, self.user_ns)\n  File \"<ipython-input-25-9385bfbc63e4>\", line 8, in <module>\n    input_shape=(12, 12, 12, kernel3)))\n  File \"/Users/gattia/anaconda2/envs/keras/lib/python2.7/site-packages/keras/models.py\", line 299, in add\n    layer.create_input_layer(batch_input_shape, input_dtype)\n  File \"/Users/gattia/anaconda2/envs/keras/lib/python2.7/site-packages/keras/engine/topology.py\", line 401, in create_input_layer\n    self(x)\n  File \"/Users/gattia/anaconda2/envs/keras/lib/python2.7/site-packages/keras/engine/topology.py\", line 572, in __call__\n    self.add_inbound_node(inbound_layers, node_indices, tensor_indices)\n  File \"/Users/gattia/anaconda2/envs/keras/lib/python2.7/site-packages/keras/engine/topology.py\", line 635, in add_inbound_node\n    Node.create_node(self, inbound_layers, node_indices, tensor_indices)\n  File \"/Users/gattia/anaconda2/envs/keras/lib/python2.7/site-packages/keras/engine/topology.py\", line 166, in create_node\n    output_tensors = to_list(outbound_layer.call(input_tensors[0], mask=input_masks[0]))\n  File \"/Users/gattia/anaconda2/envs/keras/lib/python2.7/site-packages/keras_contrib/layers/convolutional.py\", line 211, in call\n    filter_shape=self.W_shape)\n  File \"/Users/gattia/anaconda2/envs/keras/lib/python2.7/site-packages/keras_contrib/backend/tensorflow_backend.py\", line 66, in deconv3d\n    padding=padding)\n  File \"/Users/gattia/anaconda2/envs/keras/lib/python2.7/site-packages/tensorflow/python/ops/nn_ops.py\", line 1145, in conv3d_transpose\n    name=name)\n  File \"/Users/gattia/anaconda2/envs/keras/lib/python2.7/site-packages/tensorflow/python/ops/gen_nn_ops.py\", line 656, in conv3d_backprop_input_v2\n    padding=padding, name=name)\n  File \"/Users/gattia/anaconda2/envs/keras/lib/python2.7/site-packages/tensorflow/python/framework/op_def_library.py\", line 759, in apply_op\n    op_def=op_def)\n  File \"/Users/gattia/anaconda2/envs/keras/lib/python2.7/site-packages/tensorflow/python/framework/ops.py\", line 2240, in create_op\n    original_op=self._default_original_op, op_def=op_def)\n  File \"/Users/gattia/anaconda2/envs/keras/lib/python2.7/site-packages/tensorflow/python/framework/ops.py\", line 1128, in __init__\n    self._traceback = _extract_stack()\n\nInvalidArgumentError (see above for traceback): Conv3DBackpropInput: Number of cols of out_backprop doesn't match computed: actual = 12, computed = 13\n\t [[Node: conv3d_transpose_23 = Conv3DBackpropInputV2[T=DT_FLOAT, padding=\"VALID\", strides=[1, 1, 1, 1, 1], _device=\"/job:localhost/replica:0/task:0/cpu:0\"](stack_23, transpose_23, _recv_deconvolution3d_input_24_0)]]\n",
     "output_type": "error",
     "traceback": [
      "\u001b[0;31m---------------------------------------------------------------------------\u001b[0m",
      "\u001b[0;31mInvalidArgumentError\u001b[0m                      Traceback (most recent call last)",
      "\u001b[0;32m<ipython-input-25-9385bfbc63e4>\u001b[0m in \u001b[0;36m<module>\u001b[0;34m()\u001b[0m\n\u001b[1;32m      9\u001b[0m \u001b[0;31m# we can predict with the model and print the shape of the array.\u001b[0m\u001b[0;34m\u001b[0m\u001b[0;34m\u001b[0m\u001b[0m\n\u001b[1;32m     10\u001b[0m \u001b[0mdummy_input\u001b[0m \u001b[0;34m=\u001b[0m \u001b[0mnp\u001b[0m\u001b[0;34m.\u001b[0m\u001b[0mones\u001b[0m\u001b[0;34m(\u001b[0m\u001b[0;34m(\u001b[0m\u001b[0;36m32\u001b[0m\u001b[0;34m,\u001b[0m \u001b[0;36m12\u001b[0m\u001b[0;34m,\u001b[0m \u001b[0;36m12\u001b[0m\u001b[0;34m,\u001b[0m \u001b[0;36m12\u001b[0m\u001b[0;34m,\u001b[0m \u001b[0mkernel3\u001b[0m\u001b[0;34m)\u001b[0m\u001b[0;34m)\u001b[0m\u001b[0;34m\u001b[0m\u001b[0m\n\u001b[0;32m---> 11\u001b[0;31m \u001b[0mpreds\u001b[0m \u001b[0;34m=\u001b[0m \u001b[0mmodel\u001b[0m\u001b[0;34m.\u001b[0m\u001b[0mpredict\u001b[0m\u001b[0;34m(\u001b[0m\u001b[0mdummy_input\u001b[0m\u001b[0;34m)\u001b[0m\u001b[0;34m\u001b[0m\u001b[0m\n\u001b[0m\u001b[1;32m     12\u001b[0m \u001b[0;32mprint\u001b[0m\u001b[0;34m(\u001b[0m\u001b[0mpreds\u001b[0m\u001b[0;34m.\u001b[0m\u001b[0mshape\u001b[0m\u001b[0;34m)\u001b[0m  \u001b[0;31m# (None, 14, 14, 14, 3)\u001b[0m\u001b[0;34m\u001b[0m\u001b[0m\n",
      "\u001b[0;32m/Users/gattia/anaconda2/envs/keras/lib/python2.7/site-packages/keras/models.pyc\u001b[0m in \u001b[0;36mpredict\u001b[0;34m(self, x, batch_size, verbose)\u001b[0m\n\u001b[1;32m    722\u001b[0m         \u001b[0;32mif\u001b[0m \u001b[0mself\u001b[0m\u001b[0;34m.\u001b[0m\u001b[0mmodel\u001b[0m \u001b[0;32mis\u001b[0m \u001b[0mNone\u001b[0m\u001b[0;34m:\u001b[0m\u001b[0;34m\u001b[0m\u001b[0m\n\u001b[1;32m    723\u001b[0m             \u001b[0mself\u001b[0m\u001b[0;34m.\u001b[0m\u001b[0mbuild\u001b[0m\u001b[0;34m(\u001b[0m\u001b[0;34m)\u001b[0m\u001b[0;34m\u001b[0m\u001b[0m\n\u001b[0;32m--> 724\u001b[0;31m         \u001b[0;32mreturn\u001b[0m \u001b[0mself\u001b[0m\u001b[0;34m.\u001b[0m\u001b[0mmodel\u001b[0m\u001b[0;34m.\u001b[0m\u001b[0mpredict\u001b[0m\u001b[0;34m(\u001b[0m\u001b[0mx\u001b[0m\u001b[0;34m,\u001b[0m \u001b[0mbatch_size\u001b[0m\u001b[0;34m=\u001b[0m\u001b[0mbatch_size\u001b[0m\u001b[0;34m,\u001b[0m \u001b[0mverbose\u001b[0m\u001b[0;34m=\u001b[0m\u001b[0mverbose\u001b[0m\u001b[0;34m)\u001b[0m\u001b[0;34m\u001b[0m\u001b[0m\n\u001b[0m\u001b[1;32m    725\u001b[0m \u001b[0;34m\u001b[0m\u001b[0m\n\u001b[1;32m    726\u001b[0m     \u001b[0;32mdef\u001b[0m \u001b[0mpredict_on_batch\u001b[0m\u001b[0;34m(\u001b[0m\u001b[0mself\u001b[0m\u001b[0;34m,\u001b[0m \u001b[0mx\u001b[0m\u001b[0;34m)\u001b[0m\u001b[0;34m:\u001b[0m\u001b[0;34m\u001b[0m\u001b[0m\n",
      "\u001b[0;32m/Users/gattia/anaconda2/envs/keras/lib/python2.7/site-packages/keras/engine/training.pyc\u001b[0m in \u001b[0;36mpredict\u001b[0;34m(self, x, batch_size, verbose)\u001b[0m\n\u001b[1;32m   1270\u001b[0m         \u001b[0mf\u001b[0m \u001b[0;34m=\u001b[0m \u001b[0mself\u001b[0m\u001b[0;34m.\u001b[0m\u001b[0mpredict_function\u001b[0m\u001b[0;34m\u001b[0m\u001b[0m\n\u001b[1;32m   1271\u001b[0m         return self._predict_loop(f, ins,\n\u001b[0;32m-> 1272\u001b[0;31m                                   batch_size=batch_size, verbose=verbose)\n\u001b[0m\u001b[1;32m   1273\u001b[0m \u001b[0;34m\u001b[0m\u001b[0m\n\u001b[1;32m   1274\u001b[0m     def train_on_batch(self, x, y,\n",
      "\u001b[0;32m/Users/gattia/anaconda2/envs/keras/lib/python2.7/site-packages/keras/engine/training.pyc\u001b[0m in \u001b[0;36m_predict_loop\u001b[0;34m(self, f, ins, batch_size, verbose)\u001b[0m\n\u001b[1;32m    943\u001b[0m                 \u001b[0mins_batch\u001b[0m \u001b[0;34m=\u001b[0m \u001b[0mslice_X\u001b[0m\u001b[0;34m(\u001b[0m\u001b[0mins\u001b[0m\u001b[0;34m,\u001b[0m \u001b[0mbatch_ids\u001b[0m\u001b[0;34m)\u001b[0m\u001b[0;34m\u001b[0m\u001b[0m\n\u001b[1;32m    944\u001b[0m \u001b[0;34m\u001b[0m\u001b[0m\n\u001b[0;32m--> 945\u001b[0;31m             \u001b[0mbatch_outs\u001b[0m \u001b[0;34m=\u001b[0m \u001b[0mf\u001b[0m\u001b[0;34m(\u001b[0m\u001b[0mins_batch\u001b[0m\u001b[0;34m)\u001b[0m\u001b[0;34m\u001b[0m\u001b[0m\n\u001b[0m\u001b[1;32m    946\u001b[0m             \u001b[0;32mif\u001b[0m \u001b[0;32mnot\u001b[0m \u001b[0misinstance\u001b[0m\u001b[0;34m(\u001b[0m\u001b[0mbatch_outs\u001b[0m\u001b[0;34m,\u001b[0m \u001b[0mlist\u001b[0m\u001b[0;34m)\u001b[0m\u001b[0;34m:\u001b[0m\u001b[0;34m\u001b[0m\u001b[0m\n\u001b[1;32m    947\u001b[0m                 \u001b[0mbatch_outs\u001b[0m \u001b[0;34m=\u001b[0m \u001b[0;34m[\u001b[0m\u001b[0mbatch_outs\u001b[0m\u001b[0;34m]\u001b[0m\u001b[0;34m\u001b[0m\u001b[0m\n",
      "\u001b[0;32m/Users/gattia/anaconda2/envs/keras/lib/python2.7/site-packages/keras/backend/tensorflow_backend.pyc\u001b[0m in \u001b[0;36m__call__\u001b[0;34m(self, inputs)\u001b[0m\n\u001b[1;32m   1941\u001b[0m         \u001b[0msession\u001b[0m \u001b[0;34m=\u001b[0m \u001b[0mget_session\u001b[0m\u001b[0;34m(\u001b[0m\u001b[0;34m)\u001b[0m\u001b[0;34m\u001b[0m\u001b[0m\n\u001b[1;32m   1942\u001b[0m         updated = session.run(self.outputs + [self.updates_op],\n\u001b[0;32m-> 1943\u001b[0;31m                               feed_dict=feed_dict)\n\u001b[0m\u001b[1;32m   1944\u001b[0m         \u001b[0;32mreturn\u001b[0m \u001b[0mupdated\u001b[0m\u001b[0;34m[\u001b[0m\u001b[0;34m:\u001b[0m\u001b[0mlen\u001b[0m\u001b[0;34m(\u001b[0m\u001b[0mself\u001b[0m\u001b[0;34m.\u001b[0m\u001b[0moutputs\u001b[0m\u001b[0;34m)\u001b[0m\u001b[0;34m]\u001b[0m\u001b[0;34m\u001b[0m\u001b[0m\n\u001b[1;32m   1945\u001b[0m \u001b[0;34m\u001b[0m\u001b[0m\n",
      "\u001b[0;32m/Users/gattia/anaconda2/envs/keras/lib/python2.7/site-packages/tensorflow/python/client/session.pyc\u001b[0m in \u001b[0;36mrun\u001b[0;34m(self, fetches, feed_dict, options, run_metadata)\u001b[0m\n\u001b[1;32m    764\u001b[0m     \u001b[0;32mtry\u001b[0m\u001b[0;34m:\u001b[0m\u001b[0;34m\u001b[0m\u001b[0m\n\u001b[1;32m    765\u001b[0m       result = self._run(None, fetches, feed_dict, options_ptr,\n\u001b[0;32m--> 766\u001b[0;31m                          run_metadata_ptr)\n\u001b[0m\u001b[1;32m    767\u001b[0m       \u001b[0;32mif\u001b[0m \u001b[0mrun_metadata\u001b[0m\u001b[0;34m:\u001b[0m\u001b[0;34m\u001b[0m\u001b[0m\n\u001b[1;32m    768\u001b[0m         \u001b[0mproto_data\u001b[0m \u001b[0;34m=\u001b[0m \u001b[0mtf_session\u001b[0m\u001b[0;34m.\u001b[0m\u001b[0mTF_GetBuffer\u001b[0m\u001b[0;34m(\u001b[0m\u001b[0mrun_metadata_ptr\u001b[0m\u001b[0;34m)\u001b[0m\u001b[0;34m\u001b[0m\u001b[0m\n",
      "\u001b[0;32m/Users/gattia/anaconda2/envs/keras/lib/python2.7/site-packages/tensorflow/python/client/session.pyc\u001b[0m in \u001b[0;36m_run\u001b[0;34m(self, handle, fetches, feed_dict, options, run_metadata)\u001b[0m\n\u001b[1;32m    962\u001b[0m     \u001b[0;32mif\u001b[0m \u001b[0mfinal_fetches\u001b[0m \u001b[0;32mor\u001b[0m \u001b[0mfinal_targets\u001b[0m\u001b[0;34m:\u001b[0m\u001b[0;34m\u001b[0m\u001b[0m\n\u001b[1;32m    963\u001b[0m       results = self._do_run(handle, final_targets, final_fetches,\n\u001b[0;32m--> 964\u001b[0;31m                              feed_dict_string, options, run_metadata)\n\u001b[0m\u001b[1;32m    965\u001b[0m     \u001b[0;32melse\u001b[0m\u001b[0;34m:\u001b[0m\u001b[0;34m\u001b[0m\u001b[0m\n\u001b[1;32m    966\u001b[0m       \u001b[0mresults\u001b[0m \u001b[0;34m=\u001b[0m \u001b[0;34m[\u001b[0m\u001b[0;34m]\u001b[0m\u001b[0;34m\u001b[0m\u001b[0m\n",
      "\u001b[0;32m/Users/gattia/anaconda2/envs/keras/lib/python2.7/site-packages/tensorflow/python/client/session.pyc\u001b[0m in \u001b[0;36m_do_run\u001b[0;34m(self, handle, target_list, fetch_list, feed_dict, options, run_metadata)\u001b[0m\n\u001b[1;32m   1012\u001b[0m     \u001b[0;32mif\u001b[0m \u001b[0mhandle\u001b[0m \u001b[0;32mis\u001b[0m \u001b[0mNone\u001b[0m\u001b[0;34m:\u001b[0m\u001b[0;34m\u001b[0m\u001b[0m\n\u001b[1;32m   1013\u001b[0m       return self._do_call(_run_fn, self._session, feed_dict, fetch_list,\n\u001b[0;32m-> 1014\u001b[0;31m                            target_list, options, run_metadata)\n\u001b[0m\u001b[1;32m   1015\u001b[0m     \u001b[0;32melse\u001b[0m\u001b[0;34m:\u001b[0m\u001b[0;34m\u001b[0m\u001b[0m\n\u001b[1;32m   1016\u001b[0m       return self._do_call(_prun_fn, self._session, handle, feed_dict,\n",
      "\u001b[0;32m/Users/gattia/anaconda2/envs/keras/lib/python2.7/site-packages/tensorflow/python/client/session.pyc\u001b[0m in \u001b[0;36m_do_call\u001b[0;34m(self, fn, *args)\u001b[0m\n\u001b[1;32m   1032\u001b[0m         \u001b[0;32mexcept\u001b[0m \u001b[0mKeyError\u001b[0m\u001b[0;34m:\u001b[0m\u001b[0;34m\u001b[0m\u001b[0m\n\u001b[1;32m   1033\u001b[0m           \u001b[0;32mpass\u001b[0m\u001b[0;34m\u001b[0m\u001b[0m\n\u001b[0;32m-> 1034\u001b[0;31m       \u001b[0;32mraise\u001b[0m \u001b[0mtype\u001b[0m\u001b[0;34m(\u001b[0m\u001b[0me\u001b[0m\u001b[0;34m)\u001b[0m\u001b[0;34m(\u001b[0m\u001b[0mnode_def\u001b[0m\u001b[0;34m,\u001b[0m \u001b[0mop\u001b[0m\u001b[0;34m,\u001b[0m \u001b[0mmessage\u001b[0m\u001b[0;34m)\u001b[0m\u001b[0;34m\u001b[0m\u001b[0m\n\u001b[0m\u001b[1;32m   1035\u001b[0m \u001b[0;34m\u001b[0m\u001b[0m\n\u001b[1;32m   1036\u001b[0m   \u001b[0;32mdef\u001b[0m \u001b[0m_extend_graph\u001b[0m\u001b[0;34m(\u001b[0m\u001b[0mself\u001b[0m\u001b[0;34m)\u001b[0m\u001b[0;34m:\u001b[0m\u001b[0;34m\u001b[0m\u001b[0m\n",
      "\u001b[0;31mInvalidArgumentError\u001b[0m: Conv3DBackpropInput: Number of cols of out_backprop doesn't match computed: actual = 12, computed = 13\n\t [[Node: conv3d_transpose_23 = Conv3DBackpropInputV2[T=DT_FLOAT, padding=\"VALID\", strides=[1, 1, 1, 1, 1], _device=\"/job:localhost/replica:0/task:0/cpu:0\"](stack_23, transpose_23, _recv_deconvolution3d_input_24_0)]]\n\nCaused by op u'conv3d_transpose_23', defined at:\n  File \"/Users/gattia/anaconda2/envs/keras/lib/python2.7/runpy.py\", line 174, in _run_module_as_main\n    \"__main__\", fname, loader, pkg_name)\n  File \"/Users/gattia/anaconda2/envs/keras/lib/python2.7/runpy.py\", line 72, in _run_code\n    exec code in run_globals\n  File \"/Users/gattia/anaconda2/envs/keras/lib/python2.7/site-packages/ipykernel/__main__.py\", line 3, in <module>\n    app.launch_new_instance()\n  File \"/Users/gattia/anaconda2/envs/keras/lib/python2.7/site-packages/traitlets/config/application.py\", line 658, in launch_instance\n    app.start()\n  File \"/Users/gattia/anaconda2/envs/keras/lib/python2.7/site-packages/ipykernel/kernelapp.py\", line 474, in start\n    ioloop.IOLoop.instance().start()\n  File \"/Users/gattia/anaconda2/envs/keras/lib/python2.7/site-packages/zmq/eventloop/ioloop.py\", line 177, in start\n    super(ZMQIOLoop, self).start()\n  File \"/Users/gattia/anaconda2/envs/keras/lib/python2.7/site-packages/tornado/ioloop.py\", line 887, in start\n    handler_func(fd_obj, events)\n  File \"/Users/gattia/anaconda2/envs/keras/lib/python2.7/site-packages/tornado/stack_context.py\", line 275, in null_wrapper\n    return fn(*args, **kwargs)\n  File \"/Users/gattia/anaconda2/envs/keras/lib/python2.7/site-packages/zmq/eventloop/zmqstream.py\", line 440, in _handle_events\n    self._handle_recv()\n  File \"/Users/gattia/anaconda2/envs/keras/lib/python2.7/site-packages/zmq/eventloop/zmqstream.py\", line 472, in _handle_recv\n    self._run_callback(callback, msg)\n  File \"/Users/gattia/anaconda2/envs/keras/lib/python2.7/site-packages/zmq/eventloop/zmqstream.py\", line 414, in _run_callback\n    callback(*args, **kwargs)\n  File \"/Users/gattia/anaconda2/envs/keras/lib/python2.7/site-packages/tornado/stack_context.py\", line 275, in null_wrapper\n    return fn(*args, **kwargs)\n  File \"/Users/gattia/anaconda2/envs/keras/lib/python2.7/site-packages/ipykernel/kernelbase.py\", line 276, in dispatcher\n    return self.dispatch_shell(stream, msg)\n  File \"/Users/gattia/anaconda2/envs/keras/lib/python2.7/site-packages/ipykernel/kernelbase.py\", line 228, in dispatch_shell\n    handler(stream, idents, msg)\n  File \"/Users/gattia/anaconda2/envs/keras/lib/python2.7/site-packages/ipykernel/kernelbase.py\", line 390, in execute_request\n    user_expressions, allow_stdin)\n  File \"/Users/gattia/anaconda2/envs/keras/lib/python2.7/site-packages/ipykernel/ipkernel.py\", line 196, in do_execute\n    res = shell.run_cell(code, store_history=store_history, silent=silent)\n  File \"/Users/gattia/anaconda2/envs/keras/lib/python2.7/site-packages/ipykernel/zmqshell.py\", line 501, in run_cell\n    return super(ZMQInteractiveShell, self).run_cell(*args, **kwargs)\n  File \"/Users/gattia/anaconda2/envs/keras/lib/python2.7/site-packages/IPython/core/interactiveshell.py\", line 2717, in run_cell\n    interactivity=interactivity, compiler=compiler, result=result)\n  File \"/Users/gattia/anaconda2/envs/keras/lib/python2.7/site-packages/IPython/core/interactiveshell.py\", line 2821, in run_ast_nodes\n    if self.run_code(code, result):\n  File \"/Users/gattia/anaconda2/envs/keras/lib/python2.7/site-packages/IPython/core/interactiveshell.py\", line 2881, in run_code\n    exec(code_obj, self.user_global_ns, self.user_ns)\n  File \"<ipython-input-25-9385bfbc63e4>\", line 8, in <module>\n    input_shape=(12, 12, 12, kernel3)))\n  File \"/Users/gattia/anaconda2/envs/keras/lib/python2.7/site-packages/keras/models.py\", line 299, in add\n    layer.create_input_layer(batch_input_shape, input_dtype)\n  File \"/Users/gattia/anaconda2/envs/keras/lib/python2.7/site-packages/keras/engine/topology.py\", line 401, in create_input_layer\n    self(x)\n  File \"/Users/gattia/anaconda2/envs/keras/lib/python2.7/site-packages/keras/engine/topology.py\", line 572, in __call__\n    self.add_inbound_node(inbound_layers, node_indices, tensor_indices)\n  File \"/Users/gattia/anaconda2/envs/keras/lib/python2.7/site-packages/keras/engine/topology.py\", line 635, in add_inbound_node\n    Node.create_node(self, inbound_layers, node_indices, tensor_indices)\n  File \"/Users/gattia/anaconda2/envs/keras/lib/python2.7/site-packages/keras/engine/topology.py\", line 166, in create_node\n    output_tensors = to_list(outbound_layer.call(input_tensors[0], mask=input_masks[0]))\n  File \"/Users/gattia/anaconda2/envs/keras/lib/python2.7/site-packages/keras_contrib/layers/convolutional.py\", line 211, in call\n    filter_shape=self.W_shape)\n  File \"/Users/gattia/anaconda2/envs/keras/lib/python2.7/site-packages/keras_contrib/backend/tensorflow_backend.py\", line 66, in deconv3d\n    padding=padding)\n  File \"/Users/gattia/anaconda2/envs/keras/lib/python2.7/site-packages/tensorflow/python/ops/nn_ops.py\", line 1145, in conv3d_transpose\n    name=name)\n  File \"/Users/gattia/anaconda2/envs/keras/lib/python2.7/site-packages/tensorflow/python/ops/gen_nn_ops.py\", line 656, in conv3d_backprop_input_v2\n    padding=padding, name=name)\n  File \"/Users/gattia/anaconda2/envs/keras/lib/python2.7/site-packages/tensorflow/python/framework/op_def_library.py\", line 759, in apply_op\n    op_def=op_def)\n  File \"/Users/gattia/anaconda2/envs/keras/lib/python2.7/site-packages/tensorflow/python/framework/ops.py\", line 2240, in create_op\n    original_op=self._default_original_op, op_def=op_def)\n  File \"/Users/gattia/anaconda2/envs/keras/lib/python2.7/site-packages/tensorflow/python/framework/ops.py\", line 1128, in __init__\n    self._traceback = _extract_stack()\n\nInvalidArgumentError (see above for traceback): Conv3DBackpropInput: Number of cols of out_backprop doesn't match computed: actual = 12, computed = 13\n\t [[Node: conv3d_transpose_23 = Conv3DBackpropInputV2[T=DT_FLOAT, padding=\"VALID\", strides=[1, 1, 1, 1, 1], _device=\"/job:localhost/replica:0/task:0/cpu:0\"](stack_23, transpose_23, _recv_deconvolution3d_input_24_0)]]\n"
     ]
    }
   ],
   "source": [
    "outputChannels = 10\n",
    "kernel1 = 3\n",
    "kernel2 = 3\n",
    "kernel3 = 2\n",
    "model = Sequential()\n",
    "model.add(Deconvolution3D(outputChannels, kernel1, kernel2, kernel3, output_shape=(None, 14, 14, 14, outputChannels),\n",
    "                          border_mode='valid',\n",
    "                          input_shape=(12, 12, 12, kernel3)))\n",
    "# we can predict with the model and print the shape of the array.\n",
    "dummy_input = np.ones((32, 12, 12, 12, kernel3))\n",
    "preds = model.predict(dummy_input)\n",
    "print(preds.shape)  # (None, 14, 14, 14, 3)"
   ]
  },
  {
   "cell_type": "markdown",
   "metadata": {},
   "source": []
  }
 ],
 "metadata": {
  "kernelspec": {
   "display_name": "Python 2",
   "language": "python",
   "name": "python2"
  },
  "language_info": {
   "codemirror_mode": {
    "name": "ipython",
    "version": 2
   },
   "file_extension": ".py",
   "mimetype": "text/x-python",
   "name": "python",
   "nbconvert_exporter": "python",
   "pygments_lexer": "ipython2",
   "version": "2.7.13"
  }
 },
 "nbformat": 4,
 "nbformat_minor": 2
}
